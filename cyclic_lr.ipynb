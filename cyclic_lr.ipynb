{
 "cells": [
  {
   "cell_type": "markdown",
   "metadata": {
    "colab_type": "text",
    "id": "lYFsqMPGWUx3"
   },
   "source": [
    "# Cyclical Learning Rate"
   ]
  },
  {
   "cell_type": "markdown",
   "metadata": {
    "colab_type": "text",
    "id": "Fa9mT_urXvMf"
   },
   "source": [
    "1. Briefly explain the concept behind the cyclical learning rate\n",
    "2. Use the \"LR range test\" to choose a good base and max learning rate for the cyclical leraning rate"
   ]
  },
  {
   "cell_type": "markdown",
   "metadata": {
    "colab_type": "text",
    "id": "HqJXinN5WUx3"
   },
   "source": [
    "## Cyclical Learning Rate Concept"
   ]
  },
  {
   "cell_type": "markdown",
   "metadata": {
    "colab_type": "text",
    "id": "8Q6XUX6GSYD-"
   },
   "source": [
    "In his paper [1], Leslie N. Smith introduced the concept of cyclical learning rates, that is, learning rates that periodically alternative between a user-specified minimum and maximum learning rate. \n",
    "\n",
    "Varying the learning rate between between specified bounds, as implemented by Smith, is cheaper to compute than the nowadays popular approach using adaptive learning rates. Note that adaptive learning rate can also be combined with the concept of cyclical learning rates.\n",
    "\n",
    "The idea behind cyclical learning rates is that while increasing the learning rate can be harmful short term it can be beneficial in the long run. Concretely, the three methods introduced by Smith (and implemented in this notebook) are\n",
    "\n",
    "- `triangular`: The base approach, varying between a lower and an upper bound, as illustrated in the figure below\n",
    "- `triangular2`: Same as triangular, but learning rate difference is cut in half at the end of each cycle. This means the learning rate difference drops after each cycle\n",
    "-- `exp_range`: The learning rate varies between the minimum and maximum boundaries and each boundary value declines by an exponential factor of $gamma^{iteration}$\n",
    "\n",
    "\n",
    "{insert figure}\n",
    "\n",
    "\n",
    "### References\n",
    "\n",
    "\n",
    "- [1] Smith, Leslie N. “[Cyclical learning rates for training neural networks](https://ieeexplore.ieee.org/abstract/document/7926641/).” Applications of Computer Vision (WACV), 2017 IEEE Winter Conference on. IEEE, 2017."
   ]
  },
  {
   "cell_type": "markdown",
   "metadata": {
    "colab_type": "text",
    "id": "wx0idSn5SWG1"
   },
   "source": [
    "Following the description in the paper, the different cyclical learning rates are very simple to implement, as shown below:"
   ]
  },
  {
   "cell_type": "code",
   "execution_count": 4,
   "metadata": {
    "colab": {},
    "colab_type": "code",
    "id": "WmHAbUMlWUx4"
   },
   "outputs": [],
   "source": [
    "import numpy as np\n",
    "\n",
    "\n",
    "def cyclical_learning_rate(batch_step,\n",
    "                           step_size,\n",
    "                           base_lr=0.001,\n",
    "                           max_lr=0.006,\n",
    "                           mode='triangular',\n",
    "                           gamma=0.999995):\n",
    "\n",
    "    cycle = np.floor(1 + batch_step / (2. * step_size))\n",
    "    x = np.abs(batch_step / float(step_size) - 2 * cycle + 1)\n",
    "\n",
    "    lr_delta = (max_lr - base_lr) * np.maximum(0, (1 - x))\n",
    "    \n",
    "    if mode == 'triangular':\n",
    "        pass\n",
    "    elif mode == 'triangular2':\n",
    "        lr_delta = lr_delta * 1 / (2. ** (cycle - 1))\n",
    "    elif mode == 'exp_range':\n",
    "        lr_delta = lr_delta * (gamma**(batch_step))\n",
    "    else:\n",
    "        raise ValueError('mode must be \"triangular\", \"triangular2\", or \"exp_range\"')\n",
    "        \n",
    "    lr = base_lr + lr_delta\n",
    "    \n",
    "    return lr"
   ]
  },
  {
   "cell_type": "markdown",
   "metadata": {
    "colab_type": "text",
    "id": "DwyuJm46YXQf"
   },
   "source": [
    "To ensure that the learning rate works as intended, let us plot the learning rate variation for a dry run. Note that `batch_step` is a variable that tracks the total number of times a model has been updated. For instance, if we run the training loop over 5 epochs (5 passes over the training set), where each epoch is split into 100 batches, then we have a `batch_step` count of 5 * 100 = 500 at the end of the training. "
   ]
  },
  {
   "cell_type": "code",
   "execution_count": 5,
   "metadata": {
    "colab": {},
    "colab_type": "code",
    "id": "CQx-HDcyYWlu"
   },
   "outputs": [],
   "source": [
    "num_epochs = 50\n",
    "num_train = 50000\n",
    "batch_size = 100\n",
    "iter_per_ep = num_train // batch_size"
   ]
  },
  {
   "cell_type": "markdown",
   "metadata": {
    "colab_type": "text",
    "id": "87UblsShY7Uy"
   },
   "source": [
    "**Triangular**"
   ]
  },
  {
   "cell_type": "code",
   "execution_count": 6,
   "metadata": {
    "colab": {
     "base_uri": "https://localhost:8080/",
     "height": 269
    },
    "colab_type": "code",
    "id": "qIHyChx8Y6Lu",
    "outputId": "ab9a6ae8-db6e-4846-c48c-a7ce99443df8"
   },
   "outputs": [
    {
     "data": {
      "image/png": "[encoded data removed]",
      "text/plain": [
       "<Figure size 432x288 with 1 Axes>"
      ]
     },
     "metadata": {
      "needs_background": "light"
     },
     "output_type": "display_data"
    }
   ],
   "source": [
    "%matplotlib inline\n",
    "import matplotlib.pyplot as plt\n",
    "\n",
    "\n",
    "batch_step = -1\n",
    "collect_lr = []\n",
    "for e in range(num_epochs):\n",
    "    for i in range(iter_per_ep):\n",
    "        batch_step += 1\n",
    "        cur_lr = cyclical_learning_rate(batch_step=batch_step,\n",
    "                                        step_size=iter_per_ep*5)\n",
    "        \n",
    "        collect_lr.append(cur_lr)\n",
    "        \n",
    "plt.scatter(range(len(collect_lr)), collect_lr)\n",
    "plt.ylim([0.0, 0.01])\n",
    "plt.xlim([0, num_epochs*iter_per_ep + 5000])\n",
    "plt.show()"
   ]
  },
  {
   "cell_type": "markdown",
   "metadata": {
    "colab_type": "text",
    "id": "YkKd-HdtbWqv"
   },
   "source": [
    "As we can see above, with a batchsize of 100 and for a training set of 50,000 training example, we have 50,000=500 iterations per epoch. With a cycle length of 5*iterations_per_epoch=25,000, the learning rate reaches the base_lr every 5 epochs, which is equal to 25,000 batch updates. The stepsize is defined as cycle/2, i.e., 25,000/2 = 12,500 batch updates."
   ]
  },
  {
   "cell_type": "markdown",
   "metadata": {
    "colab_type": "text",
    "id": "bMErqRevY-hO"
   },
   "source": [
    "**Triangular2**"
   ]
  },
  {
   "cell_type": "markdown",
   "metadata": {
    "colab_type": "text",
    "id": "pFBm9DnTcmiM"
   },
   "source": [
    "The `triangular2` learning rate is similar to the `triangular` learning rate but cuts the max. learning rate in halve after each cycle."
   ]
  },
  {
   "cell_type": "code",
   "execution_count": 7,
   "metadata": {
    "colab": {
     "base_uri": "https://localhost:8080/",
     "height": 269
    },
    "colab_type": "code",
    "id": "pATJZ3BbY9sZ",
    "outputId": "192f3447-7072-445d-d8dd-d48d5c19c177"
   },
   "outputs": [
    {
     "data": {
      "image/png": "[encoded data removed]",
      "text/plain": [
       "<Figure size 432x288 with 1 Axes>"
      ]
     },
     "metadata": {
      "needs_background": "light"
     },
     "output_type": "display_data"
    }
   ],
   "source": [
    "collect_lr = []\n",
    "batch_step = -1\n",
    "for e in range(num_epochs):\n",
    "    for i in range(iter_per_ep):\n",
    "        batch_step += 1\n",
    "        cur_lr = cyclical_learning_rate(batch_step=batch_step,\n",
    "                                        step_size=iter_per_ep*4,\n",
    "                                        mode='triangular2')\n",
    "        \n",
    "        collect_lr.append(cur_lr)\n",
    "        \n",
    "plt.scatter(range(len(collect_lr)), collect_lr)\n",
    "plt.ylim([0.0, 0.01])\n",
    "plt.xlim([0, num_epochs*iter_per_ep + 5000])\n",
    "plt.show()"
   ]
  },
  {
   "cell_type": "markdown",
   "metadata": {
    "colab_type": "text",
    "id": "ogc0gqPTZAjz"
   },
   "source": [
    "**Exp_range**"
   ]
  },
  {
   "cell_type": "markdown",
   "metadata": {
    "colab_type": "text",
    "id": "470maAxLc6UC"
   },
   "source": [
    "The `exp_range` option adds an additional hyperparameter, `gamma` to decay the learning rate exponentially."
   ]
  },
  {
   "cell_type": "code",
   "execution_count": 8,
   "metadata": {
    "colab": {
     "base_uri": "https://localhost:8080/",
     "height": 269
    },
    "colab_type": "code",
    "id": "SBm5Q7x9Zt54",
    "outputId": "8f5f1662-ace9-43e8-f97b-4bed6fecb590"
   },
   "outputs": [
    {
     "data": {
      "image/png": "[encoded data removed]",
      "text/plain": [
       "<Figure size 432x288 with 1 Axes>"
      ]
     },
     "metadata": {
      "needs_background": "light"
     },
     "output_type": "display_data"
    }
   ],
   "source": [
    "collect_lr = []\n",
    "batch_step = -1\n",
    "for e in range(num_epochs):\n",
    "    for i in range(iter_per_ep):\n",
    "        batch_step += 1\n",
    "        cur_lr = cyclical_learning_rate(batch_step=batch_step,\n",
    "                                        step_size=iter_per_ep*4,\n",
    "                                        mode='exp_range',\n",
    "                                        gamma=0.99998)\n",
    "        \n",
    "        collect_lr.append(cur_lr)\n",
    "        \n",
    "plt.scatter(range(len(collect_lr)), collect_lr)\n",
    "plt.ylim([0.0, 0.01])\n",
    "plt.xlim([0, num_epochs*iter_per_ep + 5000])\n",
    "plt.show()"
   ]
  },
  {
   "cell_type": "markdown",
   "metadata": {
    "colab_type": "text",
    "id": "YwLP-0qkWUyF"
   },
   "source": [
    "## LR Range Test"
   ]
  },
  {
   "cell_type": "markdown",
   "metadata": {
    "colab_type": "text",
    "id": "Z_PvKZmYZ12N"
   },
   "source": [
    "The LR range test is a simple heuristic that is also described in Smith's paper. Essentially, it's a quick-and-dirty approach to find good values for the `base_lr` and `max_lr` (hyperparameters of the cyclical learning rate).\n",
    "\n",
    "It works as follows:\n",
    "\n",
    "We run the training for 5-10 epochs and increase the learning rate linearly up to an upper bound. We select the cut-off where the (train or validation) accuracy starts improving as the base_lr for the cyclical learning rate. The max_lr for the cyclical learning rate is determined in a similar manner, by choosing the cut-off value where the accuracy improvements stop, decrease, or widely fluctuate.\n",
    "\n",
    "Note that we can use the `cyclical_learning_rate` function to compute the learning rates for the increasing interval by setting `step_size=num_epochs*iter_per_ep`:"
   ]
  },
  {
   "cell_type": "code",
   "execution_count": 9,
   "metadata": {
    "colab": {
     "base_uri": "https://localhost:8080/",
     "height": 269
    },
    "colab_type": "code",
    "id": "Giqvby2abkA8",
    "outputId": "28a54819-ca46-4f90-e3aa-058a01017778"
   },
   "outputs": [
    {
     "data": {
      "image/png": "[encoded data removed]",
      "text/plain": [
       "<Figure size 432x288 with 1 Axes>"
      ]
     },
     "metadata": {
      "needs_background": "light"
     },
     "output_type": "display_data"
    }
   ],
   "source": [
    "num_epochs = 10\n",
    "\n",
    "batch_step = -1\n",
    "collect_lr = []\n",
    "for e in range(num_epochs):\n",
    "    for i in range(iter_per_ep):\n",
    "        batch_step += 1\n",
    "        cur_lr = cyclical_learning_rate(batch_step=batch_step,\n",
    "                                        step_size=num_epochs*iter_per_ep)\n",
    "        \n",
    "        collect_lr.append(cur_lr)\n",
    "        \n",
    "plt.scatter(range(len(collect_lr)), collect_lr)\n",
    "plt.ylim([0.0, 0.01])\n",
    "plt.xlim([0, num_epochs*iter_per_ep + 5000])\n",
    "plt.show()"
   ]
  },
  {
   "cell_type": "code",
   "execution_count": null,
   "metadata": {},
   "outputs": [],
   "source": []
  }
 ],
 "metadata": {
  "colab": {
   "collapsed_sections": [],
   "name": "Copy of recent-learning_rate_cyclic.ipynb",
   "provenance": [],
   "version": "0.3.2"
  },
  "kernelspec": {
   "display_name": "Python 3",
   "language": "python",
   "name": "python3"
  },
  "language_info": {
   "codemirror_mode": {
    "name": "ipython",
    "version": 3
   },
   "file_extension": ".py",
   "mimetype": "text/x-python",
   "name": "python",
   "nbconvert_exporter": "python",
   "pygments_lexer": "ipython3",
   "version": "3.7.0"
  }
 },
 "nbformat": 4,
 "nbformat_minor": 1
}
